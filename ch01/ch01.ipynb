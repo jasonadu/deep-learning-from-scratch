{
  "nbformat": 4,
  "nbformat_minor": 0,
  "metadata": {
    "colab": {
      "provenance": [],
      "authorship_tag": "ABX9TyP+rKBjxVvLSzHvbGsNjDi+",
      "include_colab_link": true
    },
    "kernelspec": {
      "name": "python3",
      "display_name": "Python 3"
    },
    "language_info": {
      "name": "python"
    }
  },
  "cells": [
    {
      "cell_type": "markdown",
      "metadata": {
        "id": "view-in-github",
        "colab_type": "text"
      },
      "source": [
        "<a href=\"https://colab.research.google.com/github/jasonadu/deep-learning-from-scratch/blob/master/ch01/ch01.ipynb\" target=\"_parent\"><img src=\"https://colab.research.google.com/assets/colab-badge.svg\" alt=\"Open In Colab\"/></a>"
      ]
    },
    {
      "cell_type": "code",
      "execution_count": 1,
      "metadata": {
        "id": "VbI2-EzxDCLg"
      },
      "outputs": [],
      "source": [
        "# coding: utf-8\n",
        "class Man:\n",
        "    \"\"\"サンプルクラス\"\"\"\n",
        "\n",
        "    def __init__(self, name):\n",
        "        self.name = name\n",
        "        print(\"Initilized!\")\n",
        "\n",
        "    def hello(self):\n",
        "        print(\"Hello \" + self.name + \"!\")\n",
        "\n",
        "    def goodbye(self):\n",
        "        print(\"Good-bye \" + self.name + \"!\")\n",
        "\n"
      ]
    },
    {
      "cell_type": "code",
      "source": [
        "m = Man(\"David\")\n",
        "m.hello()\n",
        "m.goodbye()"
      ],
      "metadata": {
        "colab": {
          "base_uri": "https://localhost:8080/"
        },
        "id": "VxS5_JN9DOIR",
        "outputId": "9e52bd9c-59da-4802-80a9-59f5daf18583"
      },
      "execution_count": 2,
      "outputs": [
        {
          "output_type": "stream",
          "name": "stdout",
          "text": [
            "Initilized!\n",
            "Hello David!\n",
            "Good-bye David!\n"
          ]
        }
      ]
    }
  ]
}